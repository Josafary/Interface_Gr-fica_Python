{
 "cells": [
  {
   "cell_type": "code",
   "execution_count": 5,
   "id": "c531624a",
   "metadata": {},
   "outputs": [],
   "source": [
    "import requests\n",
    "#import PySimpleGUI as sg\n",
    "import PySimpleGUIQt as sg\n",
    "\n",
    "from cotacao import pegar_cotacoes"
   ]
  },
  {
   "cell_type": "markdown",
   "id": "5216fba6",
   "metadata": {},
   "source": [
    "# Usando função If"
   ]
  },
  {
   "cell_type": "code",
   "execution_count": null,
   "id": "e3e3f392",
   "metadata": {},
   "outputs": [],
   "source": [
    "# LAYOUT\n",
    "layout = [\n",
    "    [sg.Text('Pegar Cotação da Moeda')],\n",
    "    [sg.InputText(key='nome_cotacao')],\n",
    "    [sg.Button('Pegar Cotação'), sg.Button('Cancelar')],\n",
    "    [sg.Text('', key='texto_cotacao')]\n",
    "]\n",
    "\n",
    "# JANELA\n",
    "janela = sg.Window('Sistem de busca de cotações', layout=layout)\n",
    "\n",
    "while True:\n",
    "    evento, valor = janela.read()\n",
    "    \n",
    "    if evento == sg.WIN_CLOSED or evento == 'Cancelar':\n",
    "        break\n",
    "        \n",
    "    if evento == 'Pegar Cotação':\n",
    "        codigo_cotacao = valor['nome_cotacao']\n",
    "        cotacao = pegar_cotacoes(codigo_cotacao)\n",
    "        janela['texto_cotacao'].update(f'A cotação do {codigo_cotacao} é de R$ {cotacao}')\n",
    "        \n",
    "        \n",
    "\n",
    "janela.close()"
   ]
  },
  {
   "cell_type": "markdown",
   "id": "81f8fcaf",
   "metadata": {},
   "source": [
    "# Usando função Match"
   ]
  },
  {
   "cell_type": "code",
   "execution_count": 6,
   "id": "f53122ab",
   "metadata": {},
   "outputs": [],
   "source": [
    "# TEMA\n",
    "sg.theme('DarkBlack')\n",
    "\n",
    "# LAYOUT\n",
    "layout = [\n",
    "    [sg.Text('Pegar Cotação da Moeda')],\n",
    "    [sg.InputText(key='nome_cotacao')],\n",
    "    [sg.Button('Pegar Cotação', key='-CATCH-'), sg.Button('Cancelar', key='-CANCEL-')],\n",
    "    [sg.Text('', key='texto_cotacao')]\n",
    "]\n",
    "\n",
    "# JANELA\n",
    "janela = sg.Window('Sistem de busca de cotações', layout=layout)\n",
    "\n",
    "while True:\n",
    "    evento, valor = janela.read()\n",
    "    match(evento):\n",
    "        case sg.WIN_CLOSED | '-CANCEL-':\n",
    "            break\n",
    "            \n",
    "        case '-CATCH-':\n",
    "            codigo_cotacao = valor['nome_cotacao']\n",
    "            cotacao = pegar_cotacoes(codigo_cotacao)\n",
    "            janela['texto_cotacao'].update(f'A cotação do {codigo_cotacao} é de R$ {cotacao}')\n",
    "            \n",
    "        case None:\n",
    "            janela['texto_cotacao'].update('Código de Moeda Inválido')\n",
    "        \n",
    "        \n",
    "janela.close()"
   ]
  },
  {
   "cell_type": "code",
   "execution_count": null,
   "id": "31456d23",
   "metadata": {},
   "outputs": [],
   "source": []
  }
 ],
 "metadata": {
  "kernelspec": {
   "display_name": "Python 3 (ipykernel)",
   "language": "python",
   "name": "python3"
  },
  "language_info": {
   "codemirror_mode": {
    "name": "ipython",
    "version": 3
   },
   "file_extension": ".py",
   "mimetype": "text/x-python",
   "name": "python",
   "nbconvert_exporter": "python",
   "pygments_lexer": "ipython3",
   "version": "3.10.9"
  }
 },
 "nbformat": 4,
 "nbformat_minor": 5
}
