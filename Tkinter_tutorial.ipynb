{
 "cells": [
  {
   "cell_type": "code",
   "execution_count": 4,
   "id": "056a9ff7",
   "metadata": {},
   "outputs": [],
   "source": [
    "import requests\n",
    "#from tkinter import *\n",
    "import tkinter as tk"
   ]
  },
  {
   "cell_type": "code",
   "execution_count": 3,
   "id": "144c590d",
   "metadata": {},
   "outputs": [
    {
     "name": "stdout",
     "output_type": "stream",
     "text": [
      "\n",
      "    Dólar: 5.0092\n",
      "    Euro: 5.2986\n",
      "    BTC: 135073\n"
     ]
    }
   ],
   "source": [
    "def pegar_cotacoes():\n",
    "    requisicao = requests.get(\"https://economia.awesomeapi.com.br/last/USD-BRL,EUR-BRL,BTC-BRL\")\n",
    "\n",
    "    requisicao_dic = requisicao.json()\n",
    "\n",
    "    cotacao_dolar = requisicao_dic['USDBRL']['bid']\n",
    "    cotacao_euro = requisicao_dic['EURBRL']['bid']\n",
    "    cotacao_btc = requisicao_dic['BTCBRL']['bid']\n",
    "\n",
    "    texto = f'''\n",
    "    Dólar: {cotacao_dolar}\n",
    "    Euro: {cotacao_euro}\n",
    "    BTC: {cotacao_btc}'''\n",
    "\n",
    "    print(texto)\n",
    "\n",
    "pegar_cotacoes()"
   ]
  },
  {
   "cell_type": "code",
   "execution_count": 10,
   "id": "89304e9a",
   "metadata": {},
   "outputs": [],
   "source": [
    "def pegar_cotacoes_2():\n",
    "    requisicao = requests.get(\"https://economia.awesomeapi.com.br/last/USD-BRL,EUR-BRL,BTC-BRL\")\n",
    "\n",
    "    requisicao_dic = requisicao.json()\n",
    "\n",
    "    cotacao_dolar = requisicao_dic['USDBRL']['bid']\n",
    "    cotacao_euro = requisicao_dic['EURBRL']['bid']\n",
    "    cotacao_btc = requisicao_dic['BTCBRL']['bid']\n",
    "\n",
    "    texto = f'''\n",
    "    Dólar: {cotacao_dolar}\n",
    "    Euro: {cotacao_euro}\n",
    "    BTC: {cotacao_btc}'''\n",
    "\n",
    "    texto_cotacoes['text'] = texto"
   ]
  },
  {
   "cell_type": "code",
   "execution_count": 15,
   "id": "143ff1bb",
   "metadata": {},
   "outputs": [],
   "source": [
    "janela = tk.Tk()\n",
    "\n",
    "janela.title('Cotação atualizada das moedas')\n",
    "janela.geometry('400x200')\n",
    "\n",
    "texto_orientacao = tk.Label(janela, text='Clique no botão para ver a cotação atualizada')\n",
    "texto_orientacao.grid(column=0, row=0, padx=10, pady=10)\n",
    "\n",
    "botao = tk.Button(janela, text='Clique aqui', command=pegar_cotacoes_2)\n",
    "botao.grid(column=0, row=1, padx=10, pady=10)\n",
    "\n",
    "texto_cotacoes = tk.Label(janela, text='')\n",
    "texto_cotacoes.grid(column=0, row=2, padx=10, pady=10)\n",
    "\n",
    "janela.mainloop()"
   ]
  },
  {
   "cell_type": "code",
   "execution_count": null,
   "id": "b677454b",
   "metadata": {},
   "outputs": [],
   "source": []
  }
 ],
 "metadata": {
  "kernelspec": {
   "display_name": "Python 3 (ipykernel)",
   "language": "python",
   "name": "python3"
  },
  "language_info": {
   "codemirror_mode": {
    "name": "ipython",
    "version": 3
   },
   "file_extension": ".py",
   "mimetype": "text/x-python",
   "name": "python",
   "nbconvert_exporter": "python",
   "pygments_lexer": "ipython3",
   "version": "3.10.9"
  }
 },
 "nbformat": 4,
 "nbformat_minor": 5
}
