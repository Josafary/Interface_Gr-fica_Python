{
 "cells": [
  {
   "cell_type": "code",
   "execution_count": 2,
   "id": "b5718eac",
   "metadata": {},
   "outputs": [],
   "source": [
    "import PySimpleGUI as sg\n",
    "#import PySimpleGUIQt as sg"
   ]
  },
  {
   "cell_type": "markdown",
   "id": "5570549e",
   "metadata": {},
   "source": [
    "# Layout simples"
   ]
  },
  {
   "cell_type": "code",
   "execution_count": 23,
   "id": "b4384a84",
   "metadata": {},
   "outputs": [],
   "source": [
    "# LAYOUT\n",
    "layout = [\n",
    "    [sg.Image(filename='avatar.png')],\n",
    "    [sg.Text('E-mail: '), sg.Input()],\n",
    "    [sg.Text('Senha: '), sg.Input(password_char='*')],\n",
    "    [sg.Button('Login'), sg.Button('Esqueci a senha')]\n",
    "]\n",
    "\n",
    "# JANELA\n",
    "window = sg.Window('Tutorial PySimpleGUI', layout=layout, element_justification='c')\n",
    "\n",
    "window.read()\n",
    "\n",
    "window.close()"
   ]
  },
  {
   "cell_type": "markdown",
   "id": "edf0f11c",
   "metadata": {},
   "source": [
    "# Layout em duas colunas"
   ]
  },
  {
   "cell_type": "code",
   "execution_count": 28,
   "id": "2500f1a4",
   "metadata": {},
   "outputs": [],
   "source": [
    " # LAYOUT\n",
    "layout_esq = [\n",
    "    [sg.Image(filename='avatar.png')],\n",
    "]\n",
    "layout_dir = [\n",
    "    [sg.Text('E-mail: '), sg.Input()],\n",
    "    [sg.Text('Senha: '), sg.Input(password_char='*')],\n",
    "    [sg.Push(), sg.Button('Login'), sg.Push(), sg.Button('Esqueci a senha'), sg.Push()]\n",
    "]\n",
    "layout = [\n",
    "    [sg.Column(layout_esq), sg.VSeparator(), sg.Column(layout_dir)]\n",
    "]\n",
    "\n",
    "# JANELA\n",
    "window = sg.Window('Tutorial PySimpleGUI', layout=layout)\n",
    "\n",
    "window.read()\n",
    "\n",
    "window.close()"
   ]
  },
  {
   "cell_type": "markdown",
   "id": "4221b2fc",
   "metadata": {},
   "source": [
    "# Alterando Tema"
   ]
  },
  {
   "cell_type": "code",
   "execution_count": 33,
   "id": "02fc9ac2",
   "metadata": {},
   "outputs": [],
   "source": [
    "sg.theme_previewer()"
   ]
  },
  {
   "cell_type": "code",
   "execution_count": 36,
   "id": "ae46b523",
   "metadata": {},
   "outputs": [],
   "source": [
    "####### THEME #######\n",
    "sg.theme('DarkBlack')\n",
    "#####################\n",
    "\n",
    "# LAYOUT\n",
    "layout_esq = [\n",
    "    [sg.Image(filename='avatar.png')],\n",
    "]\n",
    "layout_dir = [\n",
    "    [sg.Text('E-mail: '), sg.Input(key='-EMAIL-')],\n",
    "    [sg.Text('Senha: '), sg.Input(key='-SENHA-', password_char='*')],\n",
    "    [sg.Push(), sg.Button('Login'), sg.Push(), sg.Button('Esqueci a senha'), sg.Push()]\n",
    "]\n",
    "layout = [\n",
    "    [sg.Column(layout_esq), sg.VSeparator(), sg.Column(layout_dir)]\n",
    "]\n",
    "\n",
    "# JANELA\n",
    "window = sg.Window('Tutorial PySimpleGUI', layout=layout)\n",
    "\n",
    "window.read()\n",
    "\n",
    "window.close()"
   ]
  },
  {
   "cell_type": "markdown",
   "id": "1b132d3f",
   "metadata": {},
   "source": [
    "# Executar ações ao clicar em botão"
   ]
  },
  {
   "cell_type": "code",
   "execution_count": 8,
   "id": "3a509506",
   "metadata": {},
   "outputs": [
    {
     "name": "stdout",
     "output_type": "stream",
     "text": [
      "-LOGIN- {'-EMAIL-': '', '-SENHA-': ''}\n",
      "-LOGIN- {'-EMAIL-': '', '-SENHA-': ''}\n"
     ]
    }
   ],
   "source": [
    "# TEMA\n",
    "sg.theme('DarkBlack')\n",
    "\n",
    "# LAYOUT\n",
    "layout_esq = [\n",
    "    [sg.Image(filename='avatar.png', key='-IMAGEM-')],\n",
    "]\n",
    "layout_dir = [\n",
    "    [sg.Text('E-mail: '), sg.Input(key='-EMAIL-')],\n",
    "    [sg.Text('Senha: '), sg.Input(key='-SENHA-', password_char='*')],\n",
    "    [sg.Push(), sg.Button('Login', key='-LOGIN-'), sg.Push(), sg.Button('Esqueci a senha'), sg.Push()]\n",
    "]\n",
    "layout = [\n",
    "    [sg.Column(layout_esq), sg.VSeparator(), sg.Column(layout_dir)]\n",
    "]\n",
    "\n",
    "# JANELA\n",
    "window = sg.Window('Tutorial PySimpleGUI', layout=layout)\n",
    "\n",
    "while True:\n",
    "    evento, valor = window.read()\n",
    "    match(evento):\n",
    "        case None:\n",
    "            break\n",
    "        case 'Login':\n",
    "            #sg.popup('Login feito com sucesso!')\n",
    "            window['-IMAGEM-'].update(filename='avatar_2.png')\n",
    "        case 'Esqueci a senha':\n",
    "            sg.popup(f'O seu email é {valor[\"-EMAIL-\"]}')\n",
    "        case _:\n",
    "            print(evento, valor)\n",
    "\n",
    "window.read()\n",
    "\n",
    "window.close()"
   ]
  },
  {
   "cell_type": "markdown",
   "id": "8c8143d1",
   "metadata": {},
   "source": [
    "  # Buscando arquivos e criando botões"
   ]
  },
  {
   "cell_type": "code",
   "execution_count": 15,
   "id": "b06a47e6",
   "metadata": {},
   "outputs": [
    {
     "name": "stdout",
     "output_type": "stream",
     "text": [
      "('Browse', {'Browse': 'C:/Users/jcfis/Documents/Python/Interface_grafica/avatar.png'})\n"
     ]
    }
   ],
   "source": [
    "layout = [\n",
    "    [sg.FileBrowse(enable_events=True)]\n",
    "]\n",
    "window = sg.Window('Exemplo Playground', layout=layout)\n",
    "\n",
    "print(window.read())\n",
    "\n",
    "window.close()"
   ]
  },
  {
   "cell_type": "code",
   "execution_count": 5,
   "id": "6379580e",
   "metadata": {},
   "outputs": [
    {
     "ename": "SystemExit",
     "evalue": "",
     "output_type": "error",
     "traceback": [
      "An exception has occurred, use %tb to see the full traceback.\n",
      "\u001b[1;31mSystemExit\u001b[0m\n"
     ]
    },
    {
     "name": "stderr",
     "output_type": "stream",
     "text": [
      "C:\\Users\\jcfis\\anaconda3\\lib\\site-packages\\IPython\\core\\interactiveshell.py:3468: UserWarning: To exit: use 'exit', 'quit', or Ctrl-D.\n",
      "  warn(\"To exit: use 'exit', 'quit', or Ctrl-D.\", stacklevel=1)\n"
     ]
    }
   ],
   "source": [
    "def window_A():\n",
    "    layout = [\n",
    "        [sg.Button('Janela B'), sg.Button('Janela C')]\n",
    "    ]\n",
    "    \n",
    "    return sg.Window('Janela A', layout=layout)\n",
    "\n",
    "def window_B():\n",
    "    layout = [\n",
    "        [sg.Button('Janela A'), sg.Button('Janela C')]\n",
    "    ]\n",
    "    \n",
    "    return sg.Window('Janela B', layout=layout)\n",
    "\n",
    "def window_C():\n",
    "    layout = [\n",
    "        [sg.Button('Janela A'), sg.Button('Janela B')]\n",
    "    ]\n",
    "    \n",
    "    return sg.Window('Janela C', layout=layout)\n",
    "\n",
    "window = window_A()\n",
    "\n",
    "while True:\n",
    "    event, values = window.read()\n",
    "    match(event):\n",
    "        case 'Janela A' | 'Janela B' | 'Janela C':\n",
    "            window.close()\n",
    "            match(event):\n",
    "                case None:\n",
    "                    break\n",
    "                case 'Janela A':\n",
    "                    window = window_A()\n",
    "                case 'Janela B':\n",
    "                    window = window_B()\n",
    "                case 'Janela C':\n",
    "                    window = window_C()\n",
    "\n",
    "print(window.read())\n",
    "\n",
    "window.close()"
   ]
  },
  {
   "cell_type": "code",
   "execution_count": null,
   "id": "b33fecc4",
   "metadata": {},
   "outputs": [],
   "source": []
  }
 ],
 "metadata": {
  "kernelspec": {
   "display_name": "Python 3 (ipykernel)",
   "language": "python",
   "name": "python3"
  },
  "language_info": {
   "codemirror_mode": {
    "name": "ipython",
    "version": 3
   },
   "file_extension": ".py",
   "mimetype": "text/x-python",
   "name": "python",
   "nbconvert_exporter": "python",
   "pygments_lexer": "ipython3",
   "version": "3.10.9"
  }
 },
 "nbformat": 4,
 "nbformat_minor": 5
}
