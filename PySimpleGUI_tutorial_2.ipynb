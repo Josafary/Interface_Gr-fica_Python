{
 "cells": [
  {
   "cell_type": "code",
   "execution_count": 1,
   "id": "bc7ed3d6",
   "metadata": {},
   "outputs": [],
   "source": [
    "import PySimpleGUI as psg"
   ]
  },
  {
   "cell_type": "code",
   "execution_count": null,
   "id": "488de097",
   "metadata": {},
   "outputs": [],
   "source": [
    "class TelaPython:\n",
    "    def _init_(self):\n",
    "        #LAYOUT\n",
    "        layout = [\n",
    "            [psg.Text('Nome: '), psg.Input()],\n",
    "            [psg.Text('Idade: '), psg.Input()],\n",
    "            [psg.Button()]\n",
    "        ]\n",
    "        \n",
    "        #JANELA\n",
    "        janela = psg.Window('Dados do Usuário', layout=layout)\n",
    "        \n",
    "        #EXTRAIR DADOS DA TELA"
   ]
  }
 ],
 "metadata": {
  "kernelspec": {
   "display_name": "Python 3 (ipykernel)",
   "language": "python",
   "name": "python3"
  },
  "language_info": {
   "codemirror_mode": {
    "name": "ipython",
    "version": 3
   },
   "file_extension": ".py",
   "mimetype": "text/x-python",
   "name": "python",
   "nbconvert_exporter": "python",
   "pygments_lexer": "ipython3",
   "version": "3.10.9"
  }
 },
 "nbformat": 4,
 "nbformat_minor": 5
}
